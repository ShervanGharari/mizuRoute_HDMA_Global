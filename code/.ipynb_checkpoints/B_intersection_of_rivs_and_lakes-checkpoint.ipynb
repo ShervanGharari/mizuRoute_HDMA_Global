{
 "cells": [
  {
   "cell_type": "markdown",
   "metadata": {},
   "source": [
    "# Interseting the corrected lakes created and HDMA river network\n",
    "\n",
    "## using GRASS v.overlay in Qgis (river network first shp and lakes second shp)\n",
    "\n",
    "```\n",
    "folder_to_save+'hdma_global_stream.shp' # shapefile1\n",
    "folder_to_save+'HydroLAKES_polys_v10_file_1'+extension+'.shp' # shapefile2\n",
    "#v.overlay  ainput=shapefile1 atype=line binput=shapefile2 btype=area operator=and output=output\n",
    "#and save the intersection as\n",
    "folder_to_save+'river_lake_intersect'+extension+'.shp'\n",
    "```\n",
    "\n",
    "\n",
    "this can be done using the command line such as grass or gdal\n",
    "\n",
    "example of grass can be\n",
    "\n",
    "```\n",
    "salloc --account=rrg-mclark --cpus-per-task=1 --mem=32000M --time=3:00:00 # go to computing node\n",
    "module load StdEnv/2020 gcc/9.3.0\n",
    "module load grass/7.8.4\n",
    "cd # go to home\n",
    "rm -rf $HOME/grassdata/\n",
    "grass78 -c rivs_slice.shp -e $HOME/grassdata/\n",
    "#Linking external raster data to PERMANENT Mapset:\n",
    "grass78 $HOME/grassdata/PERMANENT/ --exec v.external input=\"rivs_slice.shp\" output=rivers\n",
    "grass78 $HOME/grassdata/PERMANENT/ --exec v.external input=\"lakes_slice.shp\" output=lakes\n",
    "grass78 $HOME/grassdata/PERMANENT/ --exec v.external input=\"cats_slice.shp\" output=cats\n",
    "grass78 $HOME/grassdata/PERMANENT/ --exec v.overlay  ainput=rivers atype=line binput=lakes btype=area operator=and output=output\n",
    "```\n",
    "\n",
    "or with gdal it can be sth like this:\n",
    "\n",
    "```\n",
    "ogr2ogr -f \"ESRI Shapefile\" out.shp . -dialect sqlite -sql \"SELECT ST_Intersection(a.geometry, b.geometry) AS geometry, seg_id FROM rivs_slice AS a, lakes_slice AS b WHERE ST_Intersects(a.geometry, b.geometry)\"\n",
    "```\n"
   ]
  },
  {
   "cell_type": "code",
   "execution_count": null,
   "metadata": {},
   "outputs": [],
   "source": []
  }
 ],
 "metadata": {
  "kernelspec": {
   "display_name": "myenv38",
   "language": "python",
   "name": "myenv38"
  },
  "language_info": {
   "codemirror_mode": {
    "name": "ipython",
    "version": 3
   },
   "file_extension": ".py",
   "mimetype": "text/x-python",
   "name": "python",
   "nbconvert_exporter": "python",
   "pygments_lexer": "ipython3",
   "version": "3.8.10"
  }
 },
 "nbformat": 4,
 "nbformat_minor": 4
}
