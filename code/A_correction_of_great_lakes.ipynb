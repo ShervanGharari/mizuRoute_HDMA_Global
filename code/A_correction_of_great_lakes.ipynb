{
 "cells": [
  {
   "cell_type": "code",
   "execution_count": 25,
   "metadata": {},
   "outputs": [],
   "source": [
    "# section 1 load all the necessary modules and packages\n",
    "import glob\n",
    "import time\n",
    "import geopandas          as      gpd\n",
    "import netCDF4            as      nc4\n",
    "import numpy              as      np\n",
    "import pandas             as      pd\n",
    "import xarray             as      xr\n",
    "from   shapely.geometry   import  Polygon\n",
    "import matplotlib.pyplot  as      plt\n",
    "import warnings\n",
    "import sys\n",
    "from   shapely.geometry   import  Polygon\n",
    "import os\n",
    "import shutil\n",
    "import platform\n",
    "\n",
    "def copy_files (source, destination):\n",
    "    file_list = glob.glob(source)\n",
    "    for file_path in file_list:\n",
    "        shutil.copy(file_path, destination)\n"
   ]
  },
  {
   "cell_type": "code",
   "execution_count": 26,
   "metadata": {},
   "outputs": [],
   "source": [
    "folder_to_save = './shp_output/'\n",
    "extension = ''\n",
    "\n",
    "if platform.system().lower() == \"darwin\": # on personal computer, shold be changed accodingly\n",
    "    location_of_HydroLakes = '/Volumes/F:/hydrography/hydrolakes/HydroLAKES_polys_v10_shp/HydroLAKES_polys_v10_shp/HydroLAKES_polys_v10.*'\n",
    "    location_of_HDMA_riv = '/Volumes/F:/hydrography/HDMA/processed/hdma_global_stream.*'\n",
    "    location_of_HDMA_cat = '/Volumes/F:/hydrography/HDMA/processed/hdma_global_catch_v2_*.gpkg/*'\n",
    "elif platform.system().lower() == \"linux\": # on remote computer, should be changed accordigly\n",
    "    location_of_HydroLakes = '/home/shg096/data/hydrolakes/HydroLAKES_polys_v10_shp/HydroLAKES_polys_v10_shp/HydroLAKES_polys_v10.*'\n",
    "    location_of_HDMA_riv = '/home/shg096/data/HDMA/processed/hdma_global_stream.*'\n",
    "    location_of_HDMA_cat = '/home/shg096/data/HDMA/processed/hdma_global_catch_v2_*.gpkg/*'\n",
    "\n",
    "# if os.path.isdir(folder_to_save):\n",
    "#     shutil.rmtree(folder_to_save)\n",
    "#     os.makedirs(folder_to_save)\n",
    "\n",
    "# copy the dataset\n",
    "copy_files (location_of_HDMA_riv,\\\n",
    "            folder_to_save)\n",
    "copy_files (location_of_HDMA_cat,\\\n",
    "            folder_to_save)\n",
    "copy_files (location_of_HydroLakes,\\\n",
    "            folder_to_save)\n"
   ]
  },
  {
   "cell_type": "markdown",
   "metadata": {},
   "source": [
    "# Loading the hydro-lakes version v1.0\n",
    "## Subsetting and adding extension if desired"
   ]
  },
  {
   "cell_type": "code",
   "execution_count": 27,
   "metadata": {},
   "outputs": [],
   "source": [
    "# read the hydrolakes shapefile\n",
    "shp = gpd.read_file(folder_to_save+'HydroLAKES_polys_v10.shp')\n",
    "\n",
    "# if lakes with specific characters are needed\n",
    "#shp = shp [shp['Lake_area']>100]; extension = '_100km2' # select the lakes with area more than 100 km2\n",
    "#shp = shp.reset_index()\n",
    "\n"
   ]
  },
  {
   "cell_type": "markdown",
   "metadata": {},
   "source": [
    "## To resolve the Lake Huron there is slight change in the lake shape\n",
    "### lake Huron is very close to lake superior and therefore it wont be resolved given the coarsness of HDMA river network topology\n",
    "## Lake Michigan and Lake Huron are merged to one lake with new ID\n",
    "## Lake id of 847 prolematic lake is also removed (which resulted in circular network topology)\n"
   ]
  },
  {
   "cell_type": "code",
   "execution_count": 28,
   "metadata": {},
   "outputs": [
    {
     "name": "stderr",
     "output_type": "stream",
     "text": [
      "/Users/shg096/opt/anaconda3/envs/myenv38/lib/python3.8/site-packages/pyproj/crs/crs.py:141: FutureWarning: '+init=<authority>:<code>' syntax is deprecated. '<authority>:<code>' is the preferred initialization method. When making the change, be mindful of axis order changes: https://pyproj4.github.io/pyproj/stable/gotchas.html#axis-order-changes-in-proj-6\n",
      "  in_crs_string = _prepare_from_proj_string(in_crs_string)\n",
      "/var/folders/yh/b1qy7zb96k980mcb2ps9n6d9t1c6zr/T/ipykernel_13032/3277494792.py:12: UserWarning: CRS mismatch between the CRS of left geometries and the CRS of right geometries.\n",
      "Use `to_crs()` to reproject one of the input geometries to match the CRS of the other.\n",
      "\n",
      "Left CRS: EPSG:4326\n",
      "Right CRS: +init=epsg:4326 +type=crs\n",
      "\n",
      "  shp_sub_Huron_corrected = gpd.overlay(shp_sub_Huron, box, how = 'difference') # remove the box from lake Huron\n",
      "/var/folders/yh/b1qy7zb96k980mcb2ps9n6d9t1c6zr/T/ipykernel_13032/3277494792.py:18: UserWarning: Geometry is in a geographic CRS. Results from 'buffer' are likely incorrect. Use 'GeoSeries.to_crs()' to re-project geometries to a projected CRS before this operation.\n",
      "\n",
      "  shp_slice.geometry = shp_slice.geometry.buffer(0.00001)\n",
      "/Users/shg096/opt/anaconda3/envs/myenv38/lib/python3.8/site-packages/geopandas/geodataframe.py:1322: SettingWithCopyWarning: \n",
      "A value is trying to be set on a copy of a slice from a DataFrame.\n",
      "Try using .loc[row_indexer,col_indexer] = value instead\n",
      "\n",
      "See the caveats in the documentation: https://pandas.pydata.org/pandas-docs/stable/user_guide/indexing.html#returning-a-view-versus-a-copy\n",
      "  super(GeoDataFrame, self).__setitem__(key, value)\n"
     ]
    }
   ],
   "source": [
    "shp_sub = shp\n",
    "\n",
    "# manupulation of greate lakes to make then resolvabale\n",
    "# create a test.shp\n",
    "# get the shp of lake Huron and correct\n",
    "box = Polygon([[-84.3885, 46.5672],[-84.0244,46.5672],[-84.0244,46.2540],[-84.3885,46.2540]])\n",
    "box = gpd.GeoDataFrame(pd.DataFrame(['p1'], columns = ['geometry']),\n",
    "                       crs = {'init':'epsg:4326'},\n",
    "                       geometry = [box])\n",
    "shp_sub_Huron = shp_sub[shp_sub['Hylak_id']==8] # lake Huron\n",
    "indx = shp_sub_Huron.index # get the index of lake Huron\n",
    "shp_sub_Huron_corrected = gpd.overlay(shp_sub_Huron, box, how = 'difference') # remove the box from lake Huron\n",
    "shp_sub['geometry'].loc[indx] = shp_sub_Huron_corrected['geometry'].iloc[0] # update lake Huron in shp_sub\n",
    "\n",
    "# get lake Huron and Michigan and merge them\n",
    "lake_id = np.array([6,8]) # lake Huron 8, lake Michigan 6\n",
    "shp_slice = shp_sub[shp_sub['Hylak_id'].isin(lake_id)]\n",
    "shp_slice.geometry = shp_slice.geometry.buffer(0.00001)\n",
    "shp_slice ['Hylak_id'] = 1 # unified id and dissolve on that\n",
    "shp_slice_dissolve = shp_slice.dissolve(by='Hylak_id')\n",
    "shp_slice_dissolve = shp_slice_dissolve.reset_index(drop=True)\n",
    "\n",
    "# repopulate the aggregation of the result\n",
    "columns_list = list(shp_slice_dissolve.columns)\n",
    "columns_list.remove('geometry')\n",
    "shp_slice_dissolve [columns_list] = None # put everything else except gemetry none\n",
    "shp_slice_dissolve ['Hylak_id']   = shp['Hylak_id'].max()+1 # new lake id\n",
    "shp_slice_dissolve ['Lake_name']  = 'Michigan+Huron'\n",
    "shp_slice_dissolve ['Lake_area']  = shp_slice['Lake_area'].sum()\n",
    "shp_slice_dissolve ['Vol_total']  = shp_slice['Vol_total'].sum()\n",
    "shp_slice_dissolve ['Country']    = 'United States of America'\n",
    "shp_slice_dissolve ['Continent']  = 'North America'\n",
    "shp_slice_dissolve ['Poly_src']   = 'SWBD'\n",
    "shp_slice_dissolve ['Lake_type']  = 1\n",
    "shp_slice_dissolve ['Grand_id']   = 0\n",
    "\n",
    "# remove lake Huron and Michigan from the shapefile and add their merger\n",
    "shp_sub = shp_sub.drop(index=shp_slice.index) # remove lake michigan and huron\n",
    "shp_sub = shp_sub.append(shp_slice_dissolve) # add merger of lake michigan and huron\n",
    "\n",
    "# remove the problematic lake Hylak_id = 847\n",
    "temp = shp_sub[shp_sub['Hylak_id']==847] # find the idx of the hydrolake_id 847\n",
    "shp_sub = shp_sub.drop(index=temp.index) # remove the lake 847 from the lake diefenbaker\n",
    "\n",
    "# shift the lake_id by 7000000 not to mix with ids of HDMA river network topology \n",
    "shp_sub ['Hylak_id'] = shp_sub ['Hylak_id'] + 7000000\n",
    "\n",
    "# save the file\n",
    "shp_sub.to_file(folder_to_save+'HydroLAKES_polys_v10_file_1'+extension+'.shp') # save the subset of the shapefile as a new shapefile\n",
    "\n"
   ]
  },
  {
   "cell_type": "code",
   "execution_count": null,
   "metadata": {},
   "outputs": [],
   "source": []
  }
 ],
 "metadata": {
  "kernelspec": {
   "display_name": "fhimp_venv",
   "language": "python",
   "name": "fhimp_venv"
  },
  "language_info": {
   "codemirror_mode": {
    "name": "ipython",
    "version": 3
   },
   "file_extension": ".py",
   "mimetype": "text/x-python",
   "name": "python",
   "nbconvert_exporter": "python",
   "pygments_lexer": "ipython3",
   "version": "3.10.2"
  }
 },
 "nbformat": 4,
 "nbformat_minor": 4
}
