{
 "cells": [
  {
   "cell_type": "markdown",
   "metadata": {},
   "source": [
    "# Interseting the corrected lakes created and HDMA river network\n",
    "\n",
    "## using GRASS v.overlay in Qgis (river network first shp and lakes second shp)\n",
    "\n",
    "```\n",
    "folder_to_save+'hdma_global_stream.shp' # shapefile1\n",
    "folder_to_save+'HydroLAKES_polys_v10_file_1'+extension+'.shp' # shapefile2\n",
    "#v.overlay  ainput=shapefile1 atype=line binput=shapefile2 btype=area operator=and output=output\n",
    "#and save the intersection as\n",
    "folder_to_save+'river_lake_intersect'+extension+'.shp'\n",
    "```\n",
    "\n",
    "\n",
    "this can be done using the command line such as grass or gdal\n",
    "\n",
    "example of grass can be\n",
    "\n",
    "```\n",
    "salloc --account=rrg-mclark --cpus-per-task=1 --mem=32000M --time=3:00:00 # go to computing node\n",
    "module load StdEnv/2020 gcc/9.3.0\n",
    "module load grass/7.8.4\n",
    "cd # go to home\n",
    "rm -rf $HOME/grassdata/\n",
    "grass78 -c rivs_slice.shp -e $HOME/grassdata/\n",
    "#Linking external raster data to PERMANENT Mapset:\n",
    "grass78 $HOME/grassdata/PERMANENT/ --exec v.external input=\"rivs_slice.shp\" output=rivers\n",
    "grass78 $HOME/grassdata/PERMANENT/ --exec v.external input=\"lakes_slice.shp\" output=lakes\n",
    "grass78 $HOME/grassdata/PERMANENT/ --exec v.external input=\"cats_slice.shp\" output=cats\n",
    "grass78 $HOME/grassdata/PERMANENT/ --exec v.overlay  ainput=rivers atype=line binput=lakes btype=area operator=and output=output\n",
    "```\n",
    "\n",
    "or with gdal it can be sth like this:\n",
    "\n",
    "```\n",
    "ogr2ogr -f \"ESRI Shapefile\" out.shp . -dialect sqlite -sql \"SELECT ST_Intersection(a.geometry, b.geometry) AS geometry, seg_id FROM rivs_slice AS a, lakes_slice AS b WHERE ST_Intersects(a.geometry, b.geometry)\"\n",
    "```\n"
   ]
  },
  {
   "cell_type": "markdown",
   "metadata": {},
   "source": [
    "-------------------------------\n",
    "log from the QGIS:\n",
    "```\n",
    "QGIS version: 3.24.3-Tisler\n",
    "QGIS code revision: cf22b74e01\n",
    "Qt version: 5.15.2\n",
    "Python version: 3.9.5\n",
    "GDAL version: 3.3.2\n",
    "GEOS version: 3.9.1-CAPI-1.14.2\n",
    "PROJ version: Rel. 8.1.1, September 1st, 2021\n",
    "PDAL version: 2.3.0 (git-version: Release)\n",
    "Algorithm started at: 2023-06-30T15:39:23\n",
    "Algorithm 'v.overlay' starting…\n",
    "Input parameters:\n",
    "{ '-t' : False, 'GRASS_MIN_AREA_PARAMETER' : 0.0001, 'GRASS_OUTPUT_TYPE_PARAMETER' : 0, 'GRASS_REGION_PARAMETER' : None, 'GRASS_SNAP_TOLERANCE_PARAMETER' : -1, 'GRASS_VECTOR_DSCO' : '', 'GRASS_VECTOR_EXPORT_NOCAT' : False, 'GRASS_VECTOR_LCO' : '', 'ainput' : '/Users/shg096/Desktop/mizuRoute_HDMA_Global/code/shp_output/hdma_global_stream.shp', 'atype' : 1, 'binput' : '/Users/shg096/Desktop/mizuRoute_HDMA_Global/code/shp_output/HydroLAKES_polys_v10_file_1.shp', 'btype' : 0, 'operator' : 0, 'output' : 'TEMPORARY_OUTPUT', 'snap' : 0 }\n",
    "\n",
    "g.proj -c wkt=\"/private/var/folders/yh/b1qy7zb96k980mcb2ps9n6d9t1c6zr/T/processing_ssrcgW/ad4c786183914c5a9a2befaa0d486815/crs.prj\"\n",
    "v.in.ogr min_area=0.0001 snap=-1.0 input=\"/Users/shg096/Desktop/mizuRoute_HDMA_Global/code/shp_output/hdma_global_stream.shp\" output=\"vector_649f4b8bf1ac22\" --overwrite -o\n",
    "v.in.ogr min_area=0.0001 snap=-1.0 input=\"/Users/shg096/Desktop/mizuRoute_HDMA_Global/code/shp_output/HydroLAKES_polys_v10_file_1.shp\" output=\"vector_649f4b8bf22ae3\" --overwrite -o\n",
    "g.region n=83.57595062255876 s=-55.86513888888899 e=180.00000000010016 w=-179.9999999999999\n",
    "v.overlay ainput=vector_649f4b8bf1ac22 atype=\"line\" binput=vector_649f4b8bf22ae3 btype=\"area\" operator=\"and\" snap=0 output=output2cb1b58b5876460a9c659e084ddd1b19 --overwrite\n",
    "v.out.ogr type=\"auto\" input=\"output2cb1b58b5876460a9c659e084ddd1b19\" output=\"/private/var/folders/yh/b1qy7zb96k980mcb2ps9n6d9t1c6zr/T/processing_ssrcgW/574639ee6eb44c4f90bbbac6e080b7b0/output.gpkg\" format=\"GPKG\" --overwrite\n",
    "```"
   ]
  },
  {
   "cell_type": "code",
   "execution_count": null,
   "metadata": {},
   "outputs": [],
   "source": []
  },
  {
   "cell_type": "code",
   "execution_count": null,
   "metadata": {},
   "outputs": [],
   "source": []
  }
 ],
 "metadata": {
  "kernelspec": {
   "display_name": "fhimp_venv",
   "language": "python",
   "name": "fhimp_venv"
  },
  "language_info": {
   "codemirror_mode": {
    "name": "ipython",
    "version": 3
   },
   "file_extension": ".py",
   "mimetype": "text/x-python",
   "name": "python",
   "nbconvert_exporter": "python",
   "pygments_lexer": "ipython3",
   "version": "3.10.2"
  }
 },
 "nbformat": 4,
 "nbformat_minor": 4
}
