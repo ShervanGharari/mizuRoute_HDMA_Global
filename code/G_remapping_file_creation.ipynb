{
 "cells": [
  {
   "cell_type": "markdown",
   "id": "e7957618",
   "metadata": {},
   "source": [
    "# Remap file creation for mizuRoute\n",
    "\n",
    "The following code is to prepare the remap for easy more from structured or unstrcutures mesh to river network routing subbasins.\n",
    "\n",
    "The user should call easymore nc_remapper for target shapefile, in this case river network subbasins and a smaple of netcdf file file for runoff field.\n",
    "\n",
    "If the target river network topology is large or is separated into various units such as continent, users can make the remap file for each part of river network topology first, then merge the remap file into one large file and then create the remap nc file from that.\n",
    "\n",
    "Code based on MIT license."
   ]
  },
  {
   "cell_type": "code",
   "execution_count": 2,
   "id": "09eaf67e",
   "metadata": {},
   "outputs": [
    {
     "name": "stdout",
     "output_type": "stream",
     "text": [
      "EASYMORE version 1.0.0 is initiated.\n",
      "no author name is provided. The author name is changed to (author name)!\n",
      "EASYMORE will remap variable  QRUNOFF  from source file to variable  QRUNOFF  in remapped netCDF file\n",
      "EASYMORE detects that the variables from the netCDF files are identicalin dimensions of the variables and latitude and longitude\n",
      "EASYMORE detects that all the variables have dimensions of:\n",
      "['time', 'lat', 'lon']\n",
      "EASYMORE detects that the longitude variables has dimensions of:\n",
      "['lon']\n",
      "EASYMORE detects that the latitude variables has dimensions of:\n",
      "['lat']\n"
     ]
    },
    {
     "name": "stderr",
     "output_type": "stream",
     "text": [
      "/Users/shg096/opt/anaconda3/envs/myenv38/lib/python3.8/site-packages/geopandas/_compat.py:106: UserWarning: The Shapely GEOS version (3.8.0-CAPI-1.13.1 ) is incompatible with the GEOS version PyGEOS was compiled with (3.9.1-CAPI-1.14.2). Conversions between both will be slow.\n",
      "  warnings.warn(\n"
     ]
    },
    {
     "name": "stdout",
     "output_type": "stream",
     "text": [
      "--CREATING-REMAPPING-FILE--\n",
      "Started at date and time 2023-05-31 08:17:27.608181\n",
      "EASYMORE detects that target shapefile is in WGS84 (epsg:4326)\n",
      "EASYMORE detects that the field for ID is provided in sink/target shapefile\n",
      "EASYMORE detects that either of the fields for latitude or longitude is not provided in sink/target shapefile\n",
      "calculating centroid of shapes in WGS84 projection;\n",
      "for better appximation use the easymore equal area centroid function to preprocess target shapefile\n",
      "EASYMORE detects that no field for latitude is provided in sink/target shapefile\n",
      "latitude values are added in the field lat_t\n",
      "EASYMORE detects that no field for longitude is provided in sink/target shapefile\n",
      "longitude values are added in the field lon_t\n"
     ]
    },
    {
     "name": "stderr",
     "output_type": "stream",
     "text": [
      "/Users/shg096/opt/anaconda3/envs/myenv38/lib/python3.8/site-packages/geopandas/_vectorized.py:150: DeprecationWarning: An exception was ignored while fetching the attribute `__array_interface__` from an object of type 'MultiPolygon'.  With the exception of `AttributeError` NumPy will always raise this exception in the future.  Raise this deprecation warning to see the original exception. (Warning added NumPy 1.21)\n",
      "  out[:] = [_pygeos_to_shapely(geom) for geom in data]\n",
      "/Users/shg096/opt/anaconda3/envs/myenv38/lib/python3.8/site-packages/geopandas/_vectorized.py:150: DeprecationWarning: An exception was ignored while fetching the attribute `__array_interface__` from an object of type 'Polygon'.  With the exception of `AttributeError` NumPy will always raise this exception in the future.  Raise this deprecation warning to see the original exception. (Warning added NumPy 1.21)\n",
      "  out[:] = [_pygeos_to_shapely(geom) for geom in data]\n"
     ]
    },
    {
     "name": "stdout",
     "output_type": "stream",
     "text": [
      "it seems everything is OK with the sink/target shapefile; added to EASYMORE object target_shp_gpd\n",
      "EASYMORE saved target shapefile for EASYMORE claculation as:\n",
      "./temporary/CLM_HDMA_target_shapefile.shp\n",
      "EASYMORE detects case 1 - regular lat/lon\n",
      "max difference of lat values in source nc files are :  0.0\n",
      "max difference of lon values in source nc files are :  0.0\n"
     ]
    },
    {
     "name": "stderr",
     "output_type": "stream",
     "text": [
      "/Users/shg096/opt/anaconda3/envs/myenv38/lib/python3.8/site-packages/pandas/core/dtypes/cast.py:1638: DeprecationWarning: An exception was ignored while fetching the attribute `__array_interface__` from an object of type 'Polygon'.  With the exception of `AttributeError` NumPy will always raise this exception in the future.  Raise this deprecation warning to see the original exception. (Warning added NumPy 1.21)\n",
      "  result[:] = values\n"
     ]
    },
    {
     "name": "stdout",
     "output_type": "stream",
     "text": [
      "./temporary/CLM_HDMA_source_shapefile.shp\n",
      "EASYMORE created the shapefile from the netCDF file and saved it here:\n",
      "EASMORE detects that target shapefile is outside the boundary of source netCDF file  and therefore correction for longitude values -180 to 180 or 0 to 360 if correction_shp_lon  flag is set to True [default is True]\n",
      "EASYMORE detects that shapefile longitude is between -180 and 180, no correction is performed\n",
      "EASYMORE detects that shapefile longitude is between 0 and 360, correction is performed to transfer to -180 to 180\n"
     ]
    },
    {
     "name": "stderr",
     "output_type": "stream",
     "text": [
      "/Users/shg096/opt/anaconda3/envs/myenv38/lib/python3.8/site-packages/pandas/core/dtypes/cast.py:1638: DeprecationWarning: An exception was ignored while fetching the attribute `__array_interface__` from an object of type 'Polygon'.  With the exception of `AttributeError` NumPy will always raise this exception in the future.  Raise this deprecation warning to see the original exception. (Warning added NumPy 1.21)\n",
      "  result[:] = values\n",
      "/Users/shg096/opt/anaconda3/envs/myenv38/lib/python3.8/site-packages/geopandas/_vectorized.py:150: DeprecationWarning: An exception was ignored while fetching the attribute `__array_interface__` from an object of type 'Polygon'.  With the exception of `AttributeError` NumPy will always raise this exception in the future.  Raise this deprecation warning to see the original exception. (Warning added NumPy 1.21)\n",
      "  out[:] = [_pygeos_to_shapely(geom) for geom in data]\n",
      "/Users/shg096/opt/anaconda3/envs/myenv38/lib/python3.8/site-packages/pandas/core/dtypes/cast.py:1638: DeprecationWarning: An exception was ignored while fetching the attribute `__array_interface__` from an object of type 'Polygon'.  With the exception of `AttributeError` NumPy will always raise this exception in the future.  Raise this deprecation warning to see the original exception. (Warning added NumPy 1.21)\n",
      "  result[:] = values\n",
      "/Users/shg096/opt/anaconda3/envs/myenv38/lib/python3.8/site-packages/geopandas/_vectorized.py:150: DeprecationWarning: An exception was ignored while fetching the attribute `__array_interface__` from an object of type 'MultiPolygon'.  With the exception of `AttributeError` NumPy will always raise this exception in the future.  Raise this deprecation warning to see the original exception. (Warning added NumPy 1.21)\n",
      "  out[:] = [_pygeos_to_shapely(geom) for geom in data]\n",
      "/Users/shg096/opt/anaconda3/envs/myenv38/lib/python3.8/site-packages/geopandas/_vectorized.py:150: DeprecationWarning: An exception was ignored while fetching the attribute `__array_interface__` from an object of type 'Polygon'.  With the exception of `AttributeError` NumPy will always raise this exception in the future.  Raise this deprecation warning to see the original exception. (Warning added NumPy 1.21)\n",
      "  out[:] = [_pygeos_to_shapely(geom) for geom in data]\n",
      "/Users/shg096/opt/anaconda3/envs/myenv38/lib/python3.8/site-packages/easymore/easymore.py:216: UserWarning: Column names longer than 10 characters will be truncated when saved to ESRI Shapefile.\n",
      "  shp_int.to_file(self.temp_dir+self.case_name+'_intersected_shapefile.shp') # save the intersected files\n",
      "/Users/shg096/opt/anaconda3/envs/myenv38/lib/python3.8/site-packages/geopandas/_vectorized.py:150: DeprecationWarning: An exception was ignored while fetching the attribute `__array_interface__` from an object of type 'Polygon'.  With the exception of `AttributeError` NumPy will always raise this exception in the future.  Raise this deprecation warning to see the original exception. (Warning added NumPy 1.21)\n",
      "  out[:] = [_pygeos_to_shapely(geom) for geom in data]\n",
      "/Users/shg096/opt/anaconda3/envs/myenv38/lib/python3.8/site-packages/geopandas/_vectorized.py:150: DeprecationWarning: An exception was ignored while fetching the attribute `__array_interface__` from an object of type 'MultiPolygon'.  With the exception of `AttributeError` NumPy will always raise this exception in the future.  Raise this deprecation warning to see the original exception. (Warning added NumPy 1.21)\n",
      "  out[:] = [_pygeos_to_shapely(geom) for geom in data]\n"
     ]
    },
    {
     "name": "stdout",
     "output_type": "stream",
     "text": [
      "Ended at date and time 2023-05-31 08:57:24.096770\n",
      "It took 2396.488589 seconds to finish creating of the remapping file\n",
      "---------------------------\n",
      "The flag to create only remap file is True\n",
      "The remapping file is either created or given to EASYMORE\n",
      "The remapping Located here:  ./temporary/CLM_HDMA_remapping.csv\n"
     ]
    },
    {
     "ename": "NameError",
     "evalue": "name 'll' is not defined",
     "output_type": "error",
     "traceback": [
      "\u001b[0;31m---------------------------------------------------------------------------\u001b[0m",
      "\u001b[0;31mNameError\u001b[0m                                 Traceback (most recent call last)",
      "\u001b[0;32m/var/folders/yh/b1qy7zb96k980mcb2ps9n6d9t1c6zr/T/ipykernel_98993/2579303470.py\u001b[0m in \u001b[0;36m<module>\u001b[0;34m\u001b[0m\n\u001b[1;32m     21\u001b[0m     \u001b[0;31m# execute EASYMORE\u001b[0m\u001b[0;34m\u001b[0m\u001b[0;34m\u001b[0m\u001b[0;34m\u001b[0m\u001b[0m\n\u001b[1;32m     22\u001b[0m     \u001b[0mesmr\u001b[0m\u001b[0;34m.\u001b[0m\u001b[0mnc_remapper\u001b[0m\u001b[0;34m(\u001b[0m\u001b[0;34m)\u001b[0m\u001b[0;34m\u001b[0m\u001b[0;34m\u001b[0m\u001b[0m\n\u001b[0;32m---> 23\u001b[0;31m     \u001b[0mll\u001b[0m\u001b[0;34m\u001b[0m\u001b[0;34m\u001b[0m\u001b[0m\n\u001b[0m",
      "\u001b[0;31mNameError\u001b[0m: name 'll' is not defined"
     ]
    }
   ],
   "source": [
    "# loading EASYMORE\n",
    "from easymore.easymore import easymore\n",
    "# initializing EASYMORE object\n",
    "\n",
    "for i in [1000000,2000000,3000000,4000000,5000000,6000000]:\n",
    "    \n",
    "    #\n",
    "    esmr = easymore()\n",
    "    config     = {'case_name'             : 'CLM_HDMA_'+str(i),\n",
    "                  'temp_dir'              : './temporary/',\n",
    "                  'target_shp'            : '/Volumes/F:/hydrography/HDMA/processed/hdma_global_catch_v2_'+str(i)+'.gpkg', #HDMA basins\n",
    "                  'target_shp_ID'         : 'hruid',\n",
    "                  'source_nc'             : '../data/runoff_products/CLM_sample.nc',\n",
    "                  'var_names'             : ['QRUNOFF'],\n",
    "                  'var_lon'               : 'lon',\n",
    "                  'var_lat'               : 'lat',\n",
    "                  'var_time'              : 'time',\n",
    "                  'output_dir'            : './output/',\n",
    "                  'only_create_remap_csv' : True,\n",
    "                  'save_temp_shp'         : True}\n",
    "    esmr.init_from_dict(config)\n",
    "    \n",
    "    # execute EASYMORE\n",
    "    esmr.nc_remapper()\n",
    "    \n"
   ]
  },
  {
   "cell_type": "code",
   "execution_count": null,
   "id": "92a974a4",
   "metadata": {},
   "outputs": [],
   "source": [
    "# create the remapp file \n",
    "# read the easymore remapp file for the given case\n",
    "import pandas as pd\n",
    "import netCDF4 as nc4\n",
    "import numpy as np\n",
    "import xarray as xr\n",
    "import os\n",
    "\n",
    "# read the remapp file generated by easymore\n",
    "df = pd.read_csv(esmr.temp_dir+esmr.case_name+'_remapping.csv') # read the remap file based on the \n",
    "# df = pd.read_csv('temporary_folder_case_name_remapping.csv') # read the remap file based on the \n",
    "\n",
    "# sort and get the case\n",
    "df = df.sort_values(by=['ID_t']) # sort based on ID_t\n",
    "case = df['easymore_case'].iloc[0].item()\n",
    "\n",
    "# river network ID and its frequency in intersection with runoff field grid\n",
    "RN_id, RN_frequency_in_intersection = np.unique(df['ID_t'], return_counts=True)\n",
    "print(\"the dimension of overlap between river network and hydrological units:\")\n",
    "print(len(df))\n",
    "if len(RN_id) == len(RN_frequency_in_intersection):\n",
    "    print(\"the dimension of river network and its frequancy are:\")\n",
    "    print(len(RN_id))\n",
    "    print(len(RN_frequency_in_intersection))\n",
    "else:\n",
    "    sys.exit(\"the dimension of river network and its frequency are not the same\")\n",
    "\n",
    "# get remapping information from easymore remap file\n",
    "IDmask  = np.array(df['ID_t']) # the ID of river network\n",
    "weight  = np.array(df['weight']) # the weight of each hydrological unit in river network\n",
    "i_index = np.array(df['cols']) # cols for case 1 and 2\n",
    "j_index = np.array(df['rows']) # rows for case 1 and 2\n",
    "ID_s    = np.array(df['ID_s']) # ID from unstructure mesh case 3\n",
    "\n",
    "\n",
    "# write the netcdf file\n",
    "os.remove('remapping.nc')\n",
    "\n",
    "with nc4.Dataset('remapping.nc', \"w\", format=\"NETCDF4\") as ncid: # creating the NetCDF file\n",
    "    \n",
    "    # define the dimensions\n",
    "    dimid_ID  = ncid.createDimension('polyid', len(RN_id))  # limited dimensiton equal the number of hruID\n",
    "    dimid_RMP = ncid.createDimension('intersect', len(df))   # intersection\n",
    "    \n",
    "    # Variables RN_id, RN_frequency_in_intersection\n",
    "    #\n",
    "    RN_IDvar   = ncid.createVariable('RN_ID', 'int',  ('polyid', ), fill_value = -9999)\n",
    "    RN_IDvar.long_name = 'ID of River Network subbasins'\n",
    "    RN_IDvar.standard_name = 'ID of River Network subbasins'\n",
    "    RN_IDvar.units = '1'\n",
    "    RN_IDvar[:] = RN_id\n",
    "    #\n",
    "    RN_FRvar   = ncid.createVariable('RN_FR', 'int', ('polyid', ), fill_value = -9999)\n",
    "    RN_FRvar.long_name = 'Frequancy of intersection River Network subbasins with hydrological subbasins'\n",
    "    RN_FRvar.standard_name = 'Frequancy of intersection River Network subbasins with hydrological subbasins'\n",
    "    RN_FRvar.units = '1'\n",
    "    RN_FRvar[:] = RN_frequency_in_intersection\n",
    "    \n",
    "    # ID_mask, weight, i_index, j_index, ID_s\n",
    "    #\n",
    "    IDmaskvar  = ncid.createVariable('IDmask', 'int',  ('intersect', ), fill_value = -9999)\n",
    "    IDmaskvar.long_name = 'ID of rive network subbasins'\n",
    "    IDmaskvar.standard_name = 'ID of rive network subbasins'\n",
    "    IDmaskvar.units = '1'\n",
    "    IDmaskvar[:] = IDmask\n",
    "    #\n",
    "    weightvar   = ncid.createVariable('weight', 'f8',  ('intersect', ), fill_value = -9999)\n",
    "    weightvar.long_name = 'weight of each hydrological unit in river network subbasins'\n",
    "    weightvar.standard_name = 'weight of each hydrological unit in river network subbasins'\n",
    "    weightvar.units = '1'\n",
    "    weightvar[:] = weight\n",
    "    \n",
    "    if case == 1 or case == 2:\n",
    "        #\n",
    "        i_indexvar  = ncid.createVariable('i_index', 'int',  ('intersect', ), fill_value = -9999)\n",
    "        i_indexvar.long_name = 'cols from the source nc file'\n",
    "        i_indexvar.standard_name = 'cols from the source nc file'\n",
    "        i_indexvar.units = '1'\n",
    "        i_indexvar[:] = i_index + 1\n",
    "        #\n",
    "        j_indexvar   = ncid.createVariable('j_index', 'int',  ('intersect', ), fill_value = -9999)\n",
    "        j_indexvar.long_name = 'rows from the source nc file'\n",
    "        j_indexvar.standard_name = 'rows from the source nc file'\n",
    "        j_indexvar.units = '1'\n",
    "        j_indexvar[:] = j_index + 1\n",
    "        \n",
    "    if case == 3:\n",
    "        #\n",
    "        ID_HRvar   = ncid.createVariable('ID_HR', 'int',  ('intersect', ), fill_value = -9999)\n",
    "        ID_HRvar.long_name = 'river network ID'\n",
    "        ID_HRvar.standard_name = 'river network ID'\n",
    "        ID_HRvar.units = '1'\n",
    "        ID_HRvar[:] = ID_s\n",
    "    \n",
    "    # general attributes for NetCDF file\n",
    "    ncid.Conventions = 'CF-1.6'\n",
    "    ncid.Author = 'The data were written by easymore_codes'\n",
    "    ncid.License = 'MIT'\n",
    "    ncid.History = 'Created '\n",
    "    ncid.Source = 'Case: ; remapped by script from library of Shervan Gharari (https://github.com/ShervanGharari/EASYMORE).'\n",
    "    \n",
    "\n",
    "# show the remap file\n",
    "ds = xr.open_dataset('remapping.nc')\n",
    "print(ds)"
   ]
  }
 ],
 "metadata": {
  "kernelspec": {
   "display_name": "myenv38",
   "language": "python",
   "name": "myenv38"
  },
  "language_info": {
   "codemirror_mode": {
    "name": "ipython",
    "version": 3
   },
   "file_extension": ".py",
   "mimetype": "text/x-python",
   "name": "python",
   "nbconvert_exporter": "python",
   "pygments_lexer": "ipython3",
   "version": "3.8.10"
  }
 },
 "nbformat": 4,
 "nbformat_minor": 5
}
