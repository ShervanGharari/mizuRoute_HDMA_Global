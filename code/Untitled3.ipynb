{
 "cells": [
  {
   "cell_type": "code",
   "execution_count": 1,
   "id": "49abc92b",
   "metadata": {},
   "outputs": [
    {
     "name": "stderr",
     "output_type": "stream",
     "text": [
      "/Users/shg096/opt/anaconda3/envs/myenv38/lib/python3.8/site-packages/geopandas/_compat.py:106: UserWarning: The Shapely GEOS version (3.8.0-CAPI-1.13.1 ) is incompatible with the GEOS version PyGEOS was compiled with (3.9.1-CAPI-1.14.2). Conversions between both will be slow.\n",
      "  warnings.warn(\n"
     ]
    }
   ],
   "source": [
    "# section 1 load all the necessary modules and packages\n",
    "import glob\n",
    "import time\n",
    "import geopandas as gpd\n",
    "import netCDF4 as nc4\n",
    "import numpy as np\n",
    "import pandas as pd\n",
    "import xarray as xr\n",
    "from shapely.geometry import Polygon\n",
    "import matplotlib  as mpl\n",
    "font = {'family' : 'Times New Roman',\n",
    "            'weight' : 'bold',\n",
    "            'size'   : 40}\n",
    "mpl.rc('font', **font)\n",
    "# not neccessary for the function but for visualziation\n",
    "import matplotlib.pyplot as plt\n",
    "import warnings\n",
    "import sys\n",
    "import os\n",
    "import matplotlib.pyplot as plt\n",
    "import matplotlib.gridspec as gridspec\n",
    "from mpl_toolkits.axes_grid1.inset_locator import inset_axes\n",
    "import contextily as ctx\n",
    "\n",
    "\n",
    "def NSE(s,o):\n",
    "    \"\"\"\n",
    "    Created on Thu Jan 20 15:36:37 2011\n",
    "    @ author:                  Sat Kumar Tomer\n",
    "    @ author's webpage:        http://civil.iisc.ernet.in/~satkumar/\n",
    "    @ author's email id:       satkumartomer@gmail.com\n",
    "    @ author's website:        www.ambhas.com\n",
    "\n",
    "    Nash Sutcliffe efficiency coefficient\n",
    "    input:\n",
    "        s: simulated [time]\n",
    "        o: observed [time]\n",
    "    output:\n",
    "        ns: Nash Sutcliffe efficient coefficient\n",
    "    \"\"\"\n",
    "    s,o = filter_nan(s,o)\n",
    "    return 1 - sum((s-o)**2)/sum((o-np.mean(o))**2)\n",
    "\n",
    "def filter_nan(s,o):\n",
    "    \"\"\"\n",
    "    Created on Thu Jan 20 15:36:37 2011\n",
    "    @ author:                  Sat Kumar Tomer\n",
    "    @ author's webpage:        http://civil.iisc.ernet.in/~satkumar/\n",
    "    @ author's email id:       satkumartomer@gmail.com\n",
    "    @ author's website:        www.ambhas.com\n",
    "\n",
    "    this functions removed the data  from simulated and observed data\n",
    "    whereever the observed data contains nan\n",
    "\n",
    "    this is used by all other functions, otherwise they will produce nan as\n",
    "    output\n",
    "    \"\"\"\n",
    "    data = np.array([s.flatten(),o.flatten()])\n",
    "    data = np.transpose(data)\n",
    "    data = data[~np.isnan(data).any(1)]\n",
    "    return data[:,0],data[:,1]\n",
    "\n"
   ]
  },
  {
   "cell_type": "code",
   "execution_count": 2,
   "id": "25326aca",
   "metadata": {},
   "outputs": [
    {
     "name": "stdout",
     "output_type": "stream",
     "text": [
      "['/Users/shg096/Downloads/GRDC_discharge_Data/2023-04-28_14-33.nc', '/Users/shg096/Downloads/GRDC_discharge_Data/2023-04-28_14-42.nc', '/Users/shg096/Downloads/GRDC_discharge_Data/2023-04-28_14-47.nc']\n"
     ]
    }
   ],
   "source": [
    "# read the netcdf files and merge them into one netcdf\n",
    "\n",
    "file_names = glob.glob('/Users/shg096/Downloads/GRDC_discharge_Data/*.nc')\n",
    "\n",
    "print(file_names)\n",
    "\n",
    "datasets = [xr.open_dataset(file_name) for file_name in file_names]\n",
    "\n",
    "merged_dataset = xr.merge(datasets)\n",
    "\n",
    "merged_dataset['area'][:] = merged_dataset['area'][:] * 1000000 # m2 km2"
   ]
  },
  {
   "cell_type": "code",
   "execution_count": 3,
   "id": "5e809839",
   "metadata": {},
   "outputs": [
    {
     "name": "stdout",
     "output_type": "stream",
     "text": [
      "<xarray.Dataset>\n",
      "Dimensions:     (time: 366, ID: 298277)\n",
      "Coordinates:\n",
      "  * time        (time) datetime64[ns] 1988-01-01 1988-01-02 ... 1988-12-31\n",
      "  * ID          (ID) float64 1e+06 1e+06 1e+06 ... 8.427e+06 8.427e+06 8.428e+06\n",
      "Data variables:\n",
      "    target_vol  (time, ID) float64 ...\n",
      "    abs_inj     (time, ID) float64 ...\n"
     ]
    }
   ],
   "source": [
    "ds = xr.open_dataset('/Users/shg096/Desktop/mizuRoute_HDMA_Global/code/output/WM_1988.nc')\n",
    "print(ds)"
   ]
  },
  {
   "cell_type": "code",
   "execution_count": null,
   "id": "5e495c7b",
   "metadata": {},
   "outputs": [],
   "source": []
  }
 ],
 "metadata": {
  "kernelspec": {
   "display_name": "myenv38",
   "language": "python",
   "name": "myenv38"
  },
  "language_info": {
   "codemirror_mode": {
    "name": "ipython",
    "version": 3
   },
   "file_extension": ".py",
   "mimetype": "text/x-python",
   "name": "python",
   "nbconvert_exporter": "python",
   "pygments_lexer": "ipython3",
   "version": "3.8.10"
  }
 },
 "nbformat": 4,
 "nbformat_minor": 5
}
