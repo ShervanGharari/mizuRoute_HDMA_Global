{
 "cells": [
  {
   "cell_type": "code",
   "execution_count": null,
   "id": "67f3ed5e",
   "metadata": {},
   "outputs": [],
   "source": [
    "# section 1 load all the necessary modules and packages\n",
    "import glob\n",
    "import numpy as np\n",
    "import xarray as xr\n",
    "# import cftime\n",
    "import os\n",
    "\n",
    "\n",
    "file_names = glob.glob('~/projects/rpp-kshook/shg096/mizuRoute/test_mizuRoute/mizuRoute_paper/HDMA_global_lake_case1/output/HDMA_ERA5/HDMA_ERA5_lake.mizuroute.h.*.nc')\n",
    "\n",
    "os.system('rm -rf *.nc')\n",
    "\n",
    "m = 1\n",
    "\n",
    "###\n",
    "for file_name in file_names:\n",
    "\n",
    "    # \n",
    "    dataset = xr.open_dataset(file_name) # name of the netcdf file to be open\n",
    "    \n",
    "    reachID = dataset['reachID'][:]\n",
    "    idx = np.where(reachID==7000016) # lake victoria\n",
    "    idx = np.array(idx)\n",
    "    idx = idx[0]\n",
    "    lake_vol=dataset['volume'][:,idx]\n",
    "    lake_vol.to_netcdf(str(m).zfill(4)+'.nc')\n",
    "    m = m + 1\n",
    "\n",
    "    \n",
    "###\n",
    "ds = xr.merge([xarray.open_dataset(f) for f in glob.glob('.*nc')])\n",
    "ds.to_netcdf('victoria.nc')\n"
   ]
  }
 ],
 "metadata": {
  "kernelspec": {
   "display_name": "myenv38",
   "language": "python",
   "name": "myenv38"
  },
  "language_info": {
   "codemirror_mode": {
    "name": "ipython",
    "version": 3
   },
   "file_extension": ".py",
   "mimetype": "text/x-python",
   "name": "python",
   "nbconvert_exporter": "python",
   "pygments_lexer": "ipython3",
   "version": "3.8.10"
  }
 },
 "nbformat": 4,
 "nbformat_minor": 5
}
